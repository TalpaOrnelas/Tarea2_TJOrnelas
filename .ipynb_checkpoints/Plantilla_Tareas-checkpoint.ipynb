{
 "cells": [
  {
   "cell_type": "markdown",
   "metadata": {},
   "source": [
    "<img style=\"float: left; margin: 30px 15px 15px 15px;\" src=\"https://encrypted-tbn0.gstatic.com/images?q=tbn:ANd9GcTFzQj91sOlkeDFkg5HDbjtR4QJYmLXkfMNig&usqp=CAU\" width=\"400\" height=\"500\" /> \n",
    "    \n",
    "    \n",
    "### <font color='navy'> Simulación matemática. \n",
    "\n",
    "**Nombres:** TALPA DE JESUS ORNELAS GÜITRON.\n",
    "\n",
    "**Fecha:** 05 de septiembre del 2023.\n",
    "\n",
    "**Expediente** : 745134.\n",
    "    \n",
    "**Profesor:** Oscar David Jaramillo Zuluaga.\n",
    "    \n",
    "**Link Github**: https://github.com/TalpaOrnelas/Tarea2_TJOrnelas\n",
    "\n",
    "# Tarea 2: Clase 5"
   ]
  },
  {
   "cell_type": "markdown",
   "metadata": {},
   "source": [
    "## Enunciado de tarea (Transcibirlo)\n",
    "> Descripción de la tarea"
   ]
  },
  {
   "cell_type": "markdown",
   "metadata": {},
   "source": [
    "### Ejercicio 1: (enunciado) Transcribirlo"
   ]
  },
  {
   "cell_type": "markdown",
   "metadata": {},
   "source": [
    "Código de solución estudiante 1"
   ]
  },
  {
   "cell_type": "code",
   "execution_count": 6,
   "metadata": {},
   "outputs": [],
   "source": [
    "# Importar numpy para crear las matrices\n",
    "import numpy as np"
   ]
  },
  {
   "cell_type": "code",
   "execution_count": 7,
   "metadata": {},
   "outputs": [],
   "source": [
    "# Crear las matrices para resolver el problema\n",
    "c = np.array([0.6, 0.2])\n",
    "b = np.array([-25,-6,-30])\n",
    "A = np.array([[-0.3,-0.05],\n",
    "             [-0.01,-0.07],\n",
    "             [-0.1,-0.1]])"
   ]
  },
  {
   "cell_type": "code",
   "execution_count": 11,
   "metadata": {},
   "outputs": [
    {
     "data": {
      "text/plain": [
       "(array([0.6, 0.2]),\n",
       " array([-25,  -6, -30]),\n",
       " array([[-0.3 , -0.05],\n",
       "        [-0.01, -0.07],\n",
       "        [-0.1 , -0.1 ]]))"
      ]
     },
     "execution_count": 11,
     "metadata": {},
     "output_type": "execute_result"
    }
   ],
   "source": [
    "c,b,A"
   ]
  },
  {
   "cell_type": "code",
   "execution_count": 13,
   "metadata": {},
   "outputs": [
    {
     "ename": "NameError",
     "evalue": "name 'opt' is not defined",
     "output_type": "error",
     "traceback": [
      "\u001b[1;31m---------------------------------------------------------------------------\u001b[0m",
      "\u001b[1;31mNameError\u001b[0m                                 Traceback (most recent call last)",
      "Cell \u001b[1;32mIn[13], line 2\u001b[0m\n\u001b[0;32m      1\u001b[0m \u001b[38;5;66;03m# Resolver utilizando linprog\u001b[39;00m\n\u001b[1;32m----> 2\u001b[0m sol_farma \u001b[38;5;241m=\u001b[39m opt\u001b[38;5;241m.\u001b[39mlinprog(c, A_ub\u001b[38;5;241m=\u001b[39mA, b_ub\u001b[38;5;241m=\u001b[39mb)\n",
      "\u001b[1;31mNameError\u001b[0m: name 'opt' is not defined"
     ]
    }
   ],
   "source": [
    "# Resolver utilizando linprog\n",
    "sol_farma = opt.linprog(c, A_ub=A, b_ub=b)"
   ]
  },
  {
   "cell_type": "code",
   "execution_count": null,
   "metadata": {},
   "outputs": [],
   "source": []
  },
  {
   "cell_type": "code",
   "execution_count": 10,
   "metadata": {},
   "outputs": [
    {
     "ename": "NameError",
     "evalue": "name 'sol_farma' is not defined",
     "output_type": "error",
     "traceback": [
      "\u001b[1;31m---------------------------------------------------------------------------\u001b[0m",
      "\u001b[1;31mNameError\u001b[0m                                 Traceback (most recent call last)",
      "Cell \u001b[1;32mIn[10], line 2\u001b[0m\n\u001b[0;32m      1\u001b[0m \u001b[38;5;66;03m# Mostrar el resultado\u001b[39;00m\n\u001b[1;32m----> 2\u001b[0m sol_farma\n",
      "\u001b[1;31mNameError\u001b[0m: name 'sol_farma' is not defined"
     ]
    }
   ],
   "source": [
    "# Mostrar el resultado\n",
    "sol_farma"
   ]
  },
  {
   "cell_type": "code",
   "execution_count": 14,
   "metadata": {},
   "outputs": [
    {
     "ename": "NameError",
     "evalue": "name 'sol_farma' is not defined",
     "output_type": "error",
     "traceback": [
      "\u001b[1;31m---------------------------------------------------------------------------\u001b[0m",
      "\u001b[1;31mNameError\u001b[0m                                 Traceback (most recent call last)",
      "Cell \u001b[1;32mIn[14], line 2\u001b[0m\n\u001b[0;32m      1\u001b[0m \u001b[38;5;66;03m# Extraer el vector solución\u001b[39;00m\n\u001b[1;32m----> 2\u001b[0m x \u001b[38;5;241m=\u001b[39m sol_farma\u001b[38;5;241m.\u001b[39mx\n\u001b[0;32m      3\u001b[0m x\n",
      "\u001b[1;31mNameError\u001b[0m: name 'sol_farma' is not defined"
     ]
    }
   ],
   "source": [
    "# Extraer el vector solución\n",
    "x = sol_farma.x\n",
    "x"
   ]
  },
  {
   "cell_type": "markdown",
   "metadata": {},
   "source": [
    "### Respuesta planteada en el ejercicio usando (markdown)\n",
    " La respuesta es ........."
   ]
  }
 ],
 "metadata": {
  "kernelspec": {
   "display_name": "Python 3 (ipykernel)",
   "language": "python",
   "name": "python3"
  },
  "language_info": {
   "codemirror_mode": {
    "name": "ipython",
    "version": 3
   },
   "file_extension": ".py",
   "mimetype": "text/x-python",
   "name": "python",
   "nbconvert_exporter": "python",
   "pygments_lexer": "ipython3",
   "version": "3.11.4"
  }
 },
 "nbformat": 4,
 "nbformat_minor": 2
}
